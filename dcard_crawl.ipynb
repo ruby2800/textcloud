{
 "metadata": {
  "language_info": {
   "codemirror_mode": {
    "name": "ipython",
    "version": 3
   },
   "file_extension": ".py",
   "mimetype": "text/x-python",
   "name": "python",
   "nbconvert_exporter": "python",
   "pygments_lexer": "ipython3",
   "version": "3.9.2-final"
  },
  "orig_nbformat": 2,
  "kernelspec": {
   "name": "python3",
   "display_name": "Python 3.9.2 64-bit",
   "metadata": {
    "interpreter": {
     "hash": "046cac2828f4263e95e66dfcbd67d16230106c4c47ccfb543ce7d0b0071bafc3"
    }
   }
  }
 },
 "nbformat": 4,
 "nbformat_minor": 2,
 "cells": [
  {
   "cell_type": "code",
   "execution_count": 7,
   "metadata": {},
   "outputs": [],
   "source": [
    "import requests \n",
    "from bs4 import BeautifulSoup\n",
    "import pandas as pd\n",
    "from selenium import webdriver\n",
    "from selenium.webdriver.chrome.options import Options\n",
    "from selenium.webdriver.common.keys import Keys\n",
    "import time\n",
    "\n",
    "\n"
   ]
  },
  {
   "cell_type": "code",
   "execution_count": 8,
   "metadata": {},
   "outputs": [],
   "source": [
    "keyword = \"臺中\""
   ]
  },
  {
   "cell_type": "code",
   "execution_count": 9,
   "metadata": {},
   "outputs": [],
   "source": [
    "#避免廣告出現\n",
    "options = Options()\n",
    "options.add_argument(\"--disable-notifications\")\n",
    "\n",
    "#開啟瀏覽器\n",
    "chrome = webdriver.Chrome()\n",
    "chrome.get(\"https://www.dcard.tw/search/posts?query=\"+keyword)\n",
    "time.sleep(5)"
   ]
  },
  {
   "cell_type": "code",
   "execution_count": 10,
   "metadata": {},
   "outputs": [],
   "source": [
    "#選取 是否含內文\n",
    "# KeyWordJustInTitle = chrome.find_element_by_class_name('euTDLF')\n",
    "# KeyWordJustInTitle.click()\n",
    "time.sleep(1)\n",
    "\n",
    "LatestButton = chrome.find_element_by_class_name('jquRcw')\n",
    "LatestButton.click()\n",
    "RelativityButton = chrome.find_element_by_class_name('ipyeMe')\n",
    "RelativityButton.click()\n",
    "\n",
    "#點選 第一篇文章\n",
    "FirstArticleTitle = chrome.find_element_by_class_name('tgn9uw-3')\n",
    "FirstArticleTitle.click()\n",
    "time.sleep(1)\n"
   ]
  },
  {
   "cell_type": "code",
   "execution_count": 11,
   "metadata": {},
   "outputs": [
    {
     "output_type": "stream",
     "name": "stdout",
     "text": [
      "0\n",
      "1\n",
      "2\n"
     ]
    }
   ],
   "source": [
    "title=[]\n",
    "df = pd.DataFrame()\n",
    "for i in range(3):\n",
    "    print(i)\n",
    "    #讀取當下的網頁代碼，並擷取此時的文章標題\n",
    "    soup = BeautifulSoup(chrome.page_source, \"html.parser\")\n",
    "    soup1=soup.find('div',class_=\"phqjxq-0 fQNVmg\")\n",
    "    title.append(soup1.text)\n",
    "    #點選 下一篇文章\n",
    "    NextArticle = chrome.find_element_by_class_name('llPrcG')\n",
    "    NextArticle.click()\n",
    "\n",
    "    #如果爬title，space鍵會比較快\n",
    "    # main_body = driver.find_element_by_xpath(\"//html\")\n",
    "    # main_body.send_keys(Keys.SPACE)\n",
    "    \n",
    "    time.sleep(1)"
   ]
  },
  {
   "cell_type": "code",
   "execution_count": 13,
   "metadata": {},
   "outputs": [],
   "source": [
    "import csv\n",
    "\n",
    "with open('H.csv','w', newline='',encoding=\"utf-8\") as myfile:\n",
    "    wr = csv.writer(myfile, quoting=csv.QUOTE_ALL)\n",
    "    wr.writerow(title)\n"
   ]
  }
 ]
}