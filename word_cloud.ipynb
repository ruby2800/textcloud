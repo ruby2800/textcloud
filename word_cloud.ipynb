{
 "metadata": {
  "language_info": {
   "codemirror_mode": {
    "name": "ipython",
    "version": 3
   },
   "file_extension": ".py",
   "mimetype": "text/x-python",
   "name": "python",
   "nbconvert_exporter": "python",
   "pygments_lexer": "ipython3",
   "version": 3
  },
  "orig_nbformat": 2
 },
 "nbformat": 4,
 "nbformat_minor": 2,
 "cells": [
  {
   "cell_type": "code",
   "execution_count": null,
   "metadata": {},
   "outputs": [],
   "source": [
    "import jieba\n",
    "import jieba.analyse\n",
    "from wordcloud import WordCloud, STOPWORDS, ImageColorGenerator\n",
    "\n",
    "Text =text_from_file_with_apath = open('Miaoli.txt', 'r', newline='').read()\n",
    "\n",
    "# 默認模式\n",
    "seg_list = jieba.cut(Text, cut_all=False)\n",
    "print('generator: ',seg_list)\n",
    "for seg in seg_list:\n",
    "  print(seg,end=' ')\n",
    "print('')\n",
    "seg_list = jieba.lcut(Text, cut_all=False)"
   ]
  },
  {
   "cell_type": "code",
   "execution_count": null,
   "metadata": {},
   "outputs": [],
   "source": [
    "# 移除停留詞\n",
    "new_list=[]\n",
    "\n",
    "def remove_stop_words(file_name,seg_list):\n",
    "  with open('extra.txt','r', newline='',encoding=\"utf-8\") as f:\n",
    "    stop_words = f.readlines()\n",
    "  stop_words = [stop_word.rstrip() for stop_word in stop_words]\n",
    "  \n",
    "  for seg in seg_list:\n",
    "    if seg not in stop_words:\n",
    "      new_list.append(seg) #若在for loop裡用remove的話則會改變總長度\n",
    "  return new_list\n",
    "file_name = './停用詞.txt'\n",
    "seg_list = remove_stop_words(file_name,seg_list)\n",
    "print('remove_stop_words: ',seg_list)"
   ]
  },
  {
   "cell_type": "code",
   "execution_count": null,
   "metadata": {},
   "outputs": [],
   "source": [
    "# 統計詞頻\n",
    "import pandas as pd\n",
    "def count_segment_freq(seg_list):\n",
    "  seg_df = pd.DataFrame(seg_list,columns=['seg'])\n",
    "  seg_df['count'] = 1\n",
    "  sef_freq = seg_df.groupby('seg')['count'].sum().sort_values(ascending=False)\n",
    "  sef_freq = pd.DataFrame(sef_freq)\n",
    "  return sef_freq\n",
    "sef_freq = count_segment_freq(seg_list)\n",
    "sef_freq.head()"
   ]
  },
  {
   "cell_type": "code",
   "execution_count": null,
   "metadata": {},
   "outputs": [],
   "source": [
    "seg_list=' '.join(seg_list)"
   ]
  },
  {
   "cell_type": "code",
   "execution_count": null,
   "metadata": {},
   "outputs": [],
   "source": [
    "import imageio\n",
    "back_color = imageio.imread('C:/Users/owuser/strawberry.png')\n",
    "wc = WordCloud(background_color='white',font_path='C:/Users/owuser/SimHei.ttf',mask=back_color,)\n",
    "wc.generate(seg_list)\n",
    "import matplotlib.pyplot as plt\n",
    "plt.figure(figsize=(10,10))\n",
    "plt.imshow(wc)\n",
    "plt.axis(\"off\")\n",
    "plt.show()\n",
    "\n",
    "wc.to_file(\"wordcloud.jpg\")"
   ]
  }
 ]
}